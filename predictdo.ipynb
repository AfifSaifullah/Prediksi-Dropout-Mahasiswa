{
 "cells": [
  {
   "cell_type": "markdown",
   "metadata": {},
   "source": [
    "#### Dependencies"
   ]
  },
  {
   "cell_type": "code",
   "execution_count": 885,
   "metadata": {},
   "outputs": [],
   "source": [
    "import pandas as pd\n",
    "from sklearn.linear_model import LogisticRegression\n",
    "from sklearn.model_selection import train_test_split\n",
    "from sklearn.metrics import accuracy_score, precision_score, recall_score, f1_score, confusion_matrix\n",
    "import seaborn as sns\n",
    "import matplotlib.pyplot as plt\n"
   ]
  },
  {
   "cell_type": "markdown",
   "metadata": {},
   "source": [
    "#### Data Preparation"
   ]
  },
  {
   "cell_type": "code",
   "execution_count": 886,
   "metadata": {},
   "outputs": [
    {
     "name": "stdout",
     "output_type": "stream",
     "text": [
      "   Marital_status  Application_mode  Course  Mother's_occupation  \\\n",
      "0               1                17     171                    5   \n",
      "1               1                15    9254                    3   \n",
      "2               1                 1    9070                    9   \n",
      "3               1                17    9773                    5   \n",
      "4               2                39    8014                    9   \n",
      "\n",
      "   Father's_occupation  Admission_grade  Displaced  Debtor  \\\n",
      "0                    9            127.3          1       0   \n",
      "1                    3            142.5          1       0   \n",
      "2                    9            124.8          1       0   \n",
      "3                    3            119.6          1       0   \n",
      "4                    9            141.5          0       0   \n",
      "\n",
      "   Tuition_fees_up_to_date  Gender  Scholarship_holder  Age_at_enrollment  \\\n",
      "0                        1       1                   0                 20   \n",
      "1                        0       1                   0                 19   \n",
      "2                        0       1                   0                 19   \n",
      "3                        1       0                   0                 20   \n",
      "4                        1       0                   0                 45   \n",
      "\n",
      "   Curricular_units_1st_sem_(evaluations)  \\\n",
      "0                                       0   \n",
      "1                                       6   \n",
      "2                                       0   \n",
      "3                                       8   \n",
      "4                                       9   \n",
      "\n",
      "   Curricular_units_1st_sem_(approved)  Curricular_units_1st_sem_(grade)  \\\n",
      "0                                    0                          0.000000   \n",
      "1                                    6                         14.000000   \n",
      "2                                    0                          0.000000   \n",
      "3                                    6                         13.428571   \n",
      "4                                    5                         12.333333   \n",
      "\n",
      "   Curricular_units_2nd_sem_(evaluations)  \\\n",
      "0                                       0   \n",
      "1                                       6   \n",
      "2                                       0   \n",
      "3                                      10   \n",
      "4                                       6   \n",
      "\n",
      "   Curricular_units_2nd_sem_(approved)  Curricular_units_2nd_sem_(grade)  \\\n",
      "0                                    0                          0.000000   \n",
      "1                                    6                         13.666667   \n",
      "2                                    0                          0.000000   \n",
      "3                                    5                         12.400000   \n",
      "4                                    6                         13.000000   \n",
      "\n",
      "   isDropout  \n",
      "0       True  \n",
      "1      False  \n",
      "2       True  \n",
      "3      False  \n",
      "4      False  \n"
     ]
    }
   ],
   "source": [
    "\n",
    "# Load csv file (sumber: https://archive.ics.uci.edu/dataset/697/predict+students+dropout+and+academic+success)\n",
    "dtf = pd.read_csv(\"data.csv\")\n",
    "\n",
    "# white space to underscore\n",
    "dtf.columns = dtf.columns.str.replace(' ', '_')\n",
    "\n",
    "# Data cleaning\n",
    "dtf = dtf.dropna()\n",
    "dtf = dtf.drop_duplicates()\n",
    "dtf = dtf[dtf[\"Target\"] != \"Enrolled\"]\n",
    "dtf['isDropout'] = (dtf['Target'] == 'Dropout')\n",
    "dtf = dtf.drop([\"Target\"], axis=1)\n",
    "\n",
    "dtf = dtf.drop(['Educational_special_needs',\n",
    "                'Nacionality',\n",
    "                'International',\n",
    "                'Unemployment_rate',\n",
    "                \"Father's_qualification\",\n",
    "                \"Inflation_rate\",\n",
    "                \"Curricular_units_1st_sem_(credited)\",\n",
    "                \"Curricular_units_2nd_sem_(credited)\",\n",
    "                \"GDP\",\n",
    "                \"Previous_qualification\",\n",
    "                \"Curricular_units_1st_sem_(without_evaluations)\",\n",
    "                \"Mother's_qualification\",\n",
    "                \"Application_order\",\n",
    "                \"Previous_qualification_(grade)\",\n",
    "                \"Curricular_units_2nd_sem_(without_evaluations)\",\n",
    "                \"Daytime/evening_attendance\",\n",
    "                \"Curricular_units_1st_sem_(enrolled)\",\n",
    "                \"Curricular_units_2nd_sem_(enrolled)\",\n",
    "                ],\n",
    "                axis=1)\n",
    "\n",
    "print(dtf.head())"
   ]
  },
  {
   "cell_type": "code",
   "execution_count": 887,
   "metadata": {},
   "outputs": [
    {
     "data": {
      "text/html": [
       "<div>\n",
       "<style scoped>\n",
       "    .dataframe tbody tr th:only-of-type {\n",
       "        vertical-align: middle;\n",
       "    }\n",
       "\n",
       "    .dataframe tbody tr th {\n",
       "        vertical-align: top;\n",
       "    }\n",
       "\n",
       "    .dataframe thead th {\n",
       "        text-align: right;\n",
       "    }\n",
       "</style>\n",
       "<table border=\"1\" class=\"dataframe\">\n",
       "  <thead>\n",
       "    <tr style=\"text-align: right;\">\n",
       "      <th></th>\n",
       "      <th>isDropout</th>\n",
       "    </tr>\n",
       "  </thead>\n",
       "  <tbody>\n",
       "    <tr>\n",
       "      <th>Mother's_occupation</th>\n",
       "      <td>0.000772</td>\n",
       "    </tr>\n",
       "    <tr>\n",
       "      <th>Father's_occupation</th>\n",
       "      <td>0.005066</td>\n",
       "    </tr>\n",
       "    <tr>\n",
       "      <th>Course</th>\n",
       "      <td>0.038135</td>\n",
       "    </tr>\n",
       "    <tr>\n",
       "      <th>Curricular_units_1st_sem_(evaluations)</th>\n",
       "      <td>0.059786</td>\n",
       "    </tr>\n",
       "    <tr>\n",
       "      <th>Marital_status</th>\n",
       "      <td>0.100479</td>\n",
       "    </tr>\n",
       "    <tr>\n",
       "      <th>Curricular_units_2nd_sem_(evaluations)</th>\n",
       "      <td>0.119239</td>\n",
       "    </tr>\n",
       "    <tr>\n",
       "      <th>Displaced</th>\n",
       "      <td>0.126113</td>\n",
       "    </tr>\n",
       "    <tr>\n",
       "      <th>Admission_grade</th>\n",
       "      <td>0.128058</td>\n",
       "    </tr>\n",
       "    <tr>\n",
       "      <th>Application_mode</th>\n",
       "      <td>0.244507</td>\n",
       "    </tr>\n",
       "    <tr>\n",
       "      <th>Gender</th>\n",
       "      <td>0.251955</td>\n",
       "    </tr>\n",
       "    <tr>\n",
       "      <th>Debtor</th>\n",
       "      <td>0.267207</td>\n",
       "    </tr>\n",
       "    <tr>\n",
       "      <th>Age_at_enrollment</th>\n",
       "      <td>0.267229</td>\n",
       "    </tr>\n",
       "    <tr>\n",
       "      <th>Scholarship_holder</th>\n",
       "      <td>0.313018</td>\n",
       "    </tr>\n",
       "    <tr>\n",
       "      <th>Tuition_fees_up_to_date</th>\n",
       "      <td>0.442138</td>\n",
       "    </tr>\n",
       "    <tr>\n",
       "      <th>Curricular_units_1st_sem_(grade)</th>\n",
       "      <td>0.519927</td>\n",
       "    </tr>\n",
       "    <tr>\n",
       "      <th>Curricular_units_1st_sem_(approved)</th>\n",
       "      <td>0.554881</td>\n",
       "    </tr>\n",
       "    <tr>\n",
       "      <th>Curricular_units_2nd_sem_(grade)</th>\n",
       "      <td>0.605350</td>\n",
       "    </tr>\n",
       "    <tr>\n",
       "      <th>Curricular_units_2nd_sem_(approved)</th>\n",
       "      <td>0.653995</td>\n",
       "    </tr>\n",
       "    <tr>\n",
       "      <th>isDropout</th>\n",
       "      <td>1.000000</td>\n",
       "    </tr>\n",
       "  </tbody>\n",
       "</table>\n",
       "</div>"
      ],
      "text/plain": [
       "                                        isDropout\n",
       "Mother's_occupation                      0.000772\n",
       "Father's_occupation                      0.005066\n",
       "Course                                   0.038135\n",
       "Curricular_units_1st_sem_(evaluations)   0.059786\n",
       "Marital_status                           0.100479\n",
       "Curricular_units_2nd_sem_(evaluations)   0.119239\n",
       "Displaced                                0.126113\n",
       "Admission_grade                          0.128058\n",
       "Application_mode                         0.244507\n",
       "Gender                                   0.251955\n",
       "Debtor                                   0.267207\n",
       "Age_at_enrollment                        0.267229\n",
       "Scholarship_holder                       0.313018\n",
       "Tuition_fees_up_to_date                  0.442138\n",
       "Curricular_units_1st_sem_(grade)         0.519927\n",
       "Curricular_units_1st_sem_(approved)      0.554881\n",
       "Curricular_units_2nd_sem_(grade)         0.605350\n",
       "Curricular_units_2nd_sem_(approved)      0.653995\n",
       "isDropout                                1.000000"
      ]
     },
     "execution_count": 887,
     "metadata": {},
     "output_type": "execute_result"
    }
   ],
   "source": [
    "corr_matrix = dtf.corr()\n",
    "corr_matrix = corr_matrix.abs()\n",
    "sorted = corr_matrix.sort_values(by='isDropout')\n",
    "sorted[['isDropout']]"
   ]
  },
  {
   "cell_type": "markdown",
   "metadata": {},
   "source": [
    "#### Pemisahan Data Training dan Testing"
   ]
  },
  {
   "cell_type": "code",
   "execution_count": 888,
   "metadata": {},
   "outputs": [
    {
     "name": "stdout",
     "output_type": "stream",
     "text": [
      "Jumlah total data : 3630\n",
      "   Marital_status  Application_mode  Course  Mother's_occupation  \\\n",
      "0               1                17     171                    5   \n",
      "1               1                15    9254                    3   \n",
      "2               1                 1    9070                    9   \n",
      "3               1                17    9773                    5   \n",
      "4               2                39    8014                    9   \n",
      "\n",
      "   Father's_occupation  Admission_grade  Displaced  Debtor  \\\n",
      "0                    9            127.3          1       0   \n",
      "1                    3            142.5          1       0   \n",
      "2                    9            124.8          1       0   \n",
      "3                    3            119.6          1       0   \n",
      "4                    9            141.5          0       0   \n",
      "\n",
      "   Tuition_fees_up_to_date  Gender  Scholarship_holder  Age_at_enrollment  \\\n",
      "0                        1       1                   0                 20   \n",
      "1                        0       1                   0                 19   \n",
      "2                        0       1                   0                 19   \n",
      "3                        1       0                   0                 20   \n",
      "4                        1       0                   0                 45   \n",
      "\n",
      "   Curricular_units_1st_sem_(evaluations)  \\\n",
      "0                                       0   \n",
      "1                                       6   \n",
      "2                                       0   \n",
      "3                                       8   \n",
      "4                                       9   \n",
      "\n",
      "   Curricular_units_1st_sem_(approved)  Curricular_units_1st_sem_(grade)  \\\n",
      "0                                    0                          0.000000   \n",
      "1                                    6                         14.000000   \n",
      "2                                    0                          0.000000   \n",
      "3                                    6                         13.428571   \n",
      "4                                    5                         12.333333   \n",
      "\n",
      "   Curricular_units_2nd_sem_(evaluations)  \\\n",
      "0                                       0   \n",
      "1                                       6   \n",
      "2                                       0   \n",
      "3                                      10   \n",
      "4                                       6   \n",
      "\n",
      "   Curricular_units_2nd_sem_(approved)  Curricular_units_2nd_sem_(grade)  \\\n",
      "0                                    0                          0.000000   \n",
      "1                                    6                         13.666667   \n",
      "2                                    0                          0.000000   \n",
      "3                                    5                         12.400000   \n",
      "4                                    6                         13.000000   \n",
      "\n",
      "   isDropout  \n",
      "0       True  \n",
      "1      False  \n",
      "2       True  \n",
      "3      False  \n",
      "4      False  \n"
     ]
    }
   ],
   "source": [
    "features = dtf.drop(['isDropout'], axis=1)\n",
    "targets = dtf['isDropout'].values\n",
    "\n",
    "# Membagi dataset menjadi data training dan data testing, dataset dibagi secara acak dengan rasio 80% data training dan 20% data test\n",
    "X_train, X_test, y_train, y_test = train_test_split(features, targets, random_state=229)\n",
    "\n",
    "print(f\"Jumlah total data : {dtf.shape[0]}\")\n",
    "print(dtf.head())"
   ]
  },
  {
   "cell_type": "markdown",
   "metadata": {},
   "source": [
    "#### Pelatihan Model dengan Training Data"
   ]
  },
  {
   "cell_type": "code",
   "execution_count": 889,
   "metadata": {},
   "outputs": [
    {
     "name": "stdout",
     "output_type": "stream",
     "text": [
      "Initializing...\n",
      "Done!\n"
     ]
    }
   ],
   "source": [
    "# Pelatihan model dengan data training\n",
    "print(\"Initializing...\")\n",
    "model = LogisticRegression(max_iter=3200)\n",
    "model.fit(X_train, y_train)\n",
    "print(\"Done!\")"
   ]
  },
  {
   "cell_type": "markdown",
   "metadata": {},
   "source": [
    "#### Evaluasi"
   ]
  },
  {
   "cell_type": "code",
   "execution_count": 890,
   "metadata": {},
   "outputs": [
    {
     "name": "stdout",
     "output_type": "stream",
     "text": [
      "Accuracy:  0.9008810572687225\n",
      "Precision:  0.9140127388535032\n",
      "Recall:  0.82\n",
      "F1:  0.8644578313253012\n"
     ]
    },
    {
     "data": {
      "image/png": "[encoded data removed]",
      "text/plain": [
       "<Figure size 800x600 with 1 Axes>"
      ]
     },
     "metadata": {},
     "output_type": "display_data"
    }
   ],
   "source": [
    "# Membuat prediksi dengan data testing\n",
    "y_pred = model.predict(X_test)\n",
    "\n",
    "# evaluate model\n",
    "print('Accuracy: ', accuracy_score(y_test, y_pred))\n",
    "print('Precision: ', precision_score(y_test, y_pred))\n",
    "print('Recall: ', recall_score(y_test, y_pred))\n",
    "print('F1: ', f1_score(y_test, y_pred))\n",
    "\n",
    "# Membalikan posisi nilai matriks, karena secara default true negative berada di kiri\n",
    "con_mat = confusion_matrix(y_test, y_pred)\n",
    "con_mat[0], con_mat[1] = con_mat[0][::-1], con_mat[1][::-1]\n",
    "con_mat = con_mat[::-1]\n",
    "\n",
    "# Display confusion matrix as a table\n",
    "plt.figure(figsize=(8, 6))\n",
    "sns.heatmap(con_mat, annot=True, fmt=\"d\", cmap=\"Blues\", cbar=False,\n",
    "            xticklabels=['Positive', 'Negative'],\n",
    "            yticklabels=['Positive', 'Negative'])\n",
    "plt.xlabel('Actual')\n",
    "plt.ylabel('Predicted')\n",
    "plt.title('Confusion Matrix')\n",
    "plt.show()"
   ]
  },
  {
   "cell_type": "code",
   "execution_count": 891,
   "metadata": {},
   "outputs": [
    {
     "name": "stdout",
     "output_type": "stream",
     "text": [
      "                                   Feature  Coefficient  AbsoluteCoefficient\n",
      "8                  Tuition_fees_up_to_date    -1.854161             1.854161\n",
      "7                                   Debtor     1.168128             1.168128\n",
      "10                      Scholarship_holder    -1.088292             1.088292\n",
      "16     Curricular_units_2nd_sem_(approved)    -0.585745             0.585745\n",
      "9                                   Gender     0.558076             0.558076\n",
      "17        Curricular_units_2nd_sem_(grade)    -0.264274             0.264274\n",
      "6                                Displaced     0.263562             0.263562\n",
      "0                           Marital_status    -0.247886             0.247886\n",
      "15  Curricular_units_2nd_sem_(evaluations)     0.148375             0.148375\n",
      "12  Curricular_units_1st_sem_(evaluations)     0.129158             0.129158\n",
      "13     Curricular_units_1st_sem_(approved)    -0.053870             0.053870\n",
      "14        Curricular_units_1st_sem_(grade)    -0.051515             0.051515\n",
      "11                       Age_at_enrollment     0.042976             0.042976\n",
      "1                         Application_mode     0.006895             0.006895\n",
      "3                      Mother's_occupation    -0.005670             0.005670\n",
      "5                          Admission_grade     0.003475             0.003475\n",
      "2                                   Course     0.000418             0.000418\n",
      "4                      Father's_occupation     0.000145             0.000145\n"
     ]
    }
   ],
   "source": [
    "# Get feature names from the DataFrame columns\n",
    "feature_names = features.columns\n",
    "\n",
    "# Get the coefficients (weights) of the features\n",
    "coefficients = model.coef_[0]\n",
    "\n",
    "# Create a DataFrame to display feature names and their corresponding coefficients\n",
    "coefficients_df = pd.DataFrame({'Feature': feature_names, 'Coefficient': coefficients})\n",
    "\n",
    "# Sort the DataFrame by the absolute value of the coefficients\n",
    "coefficients_df['AbsoluteCoefficient'] = coefficients_df['Coefficient'].abs()\n",
    "sorted_coefficients_df = coefficients_df.sort_values(by='AbsoluteCoefficient', ascending=False)\n",
    "\n",
    "# Display the sorted DataFrame\n",
    "print(sorted_coefficients_df)"
   ]
  }
 ],
 "metadata": {
  "kernelspec": {
   "display_name": "nlpenv",
   "language": "python",
   "name": "python3"
  },
  "language_info": {
   "codemirror_mode": {
    "name": "ipython",
    "version": 3
   },
   "file_extension": ".py",
   "mimetype": "text/x-python",
   "name": "python",
   "nbconvert_exporter": "python",
   "pygments_lexer": "ipython3",
   "version": "3.10.0"
  }
 },
 "nbformat": 4,
 "nbformat_minor": 2
}
